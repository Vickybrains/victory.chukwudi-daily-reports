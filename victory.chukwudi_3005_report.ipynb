{
 "cells": [
  {
   "cell_type": "markdown",
   "id": "empirical-briefing",
   "metadata": {},
   "source": [
    "# Report on Control Flow in Python Taught by Dr. Yae Gaba\n",
    "\n",
    "Introduction:\n",
    "\n",
    "I attended a lecture on control flow in Python delivered by Dr. Yae Gaba on the 30th of september,2024. The session covered various aspects of control flow such as conditional structures using if statements, defining nested if clauses, loop instructions including for loops, list comprehension, and the usage of break and continue statements within loops. In this report, I will summarize the key points discussed during the lecture and reflect on what I learned from the session.\n",
    "\n",
    "Conditional Structures with If Statements:\n",
    "Dr. Gaba introduced the concept of conditional structures using if statements in Python. The if statement allows us to execute a block of code only if a specific condition is met. We learned about the syntax of if statements and how to use comparison operators like ==, !=, >, <, etc., to define conditions.\n",
    "\n",
    "Defining Nested If Clauses:\n",
    "The lecture also covered the concept of nested if clauses, where one if statement is nested within another. This allows for more complex decision-making within the code. Dr. Gaba explained the indentation rules in Python and how to properly structure nested if clauses to avoid syntax errors.\n",
    "\n",
    "Loop Instructions:\n",
    "The session delved into loop instructions, focusing on for loops in Python. We learned how to iterate over sequences like lists, tuples, and dictionaries using for loops. Dr. Gaba demonstrated how to use the range() function and iterate through a range of numbers within a for loop.\n",
    "\n",
    "List Comprehension:\n",
    "List comprehension is a concise way to create lists in Python. Dr. Gaba explained how list comprehension offers a more efficient and readable alternative to traditional loops for creating lists. We practiced writing list comprehensions for various use cases during the lecture.\n",
    "\n",
    "Break and Continue Statements in Loops:\n",
    "The lecture covered the usage of break and continue statements within while and for loops. The break statement allows us to exit a loop prematurely, while the continue statement skips the current iteration and moves to the next one. Dr. Gaba provided examples illustrating the use of break and continue statements in loops.\n",
    "\n",
    "Reflection:\n",
    "The lecture on control flow in Python taught by Dr. Yae Gaba was incredibly insightful and informative. I gained a solid understanding of how to incorporate conditional structures, loops, and control statements in Python programming. The practical examples and exercises conducted during the session enhanced my comprehension of the topic.\n",
    "\n",
    "Overall, the lecture provided a comprehensive overview of control flow concepts in Python, equipping me with the knowledge and skills to effectively utilize these principles in my programming projects. I look forward to applying these learnings in my future endeavors and further exploring the versatility of control flow in Python programming.\n",
    "\n"
   ]
  },
  {
   "cell_type": "markdown",
   "id": "dying-rwanda",
   "metadata": {},
   "source": [
    "# Practical EXercises"
   ]
  },
  {
   "cell_type": "code",
   "execution_count": null,
   "id": "precise-archives",
   "metadata": {},
   "outputs": [],
   "source": [
    "\n",
    "\n",
    "\n",
    "# Conditional structure with if statement\n",
    "x = 10\n",
    "if x > 5:\n",
    "    print(\"x is greater than 5\")\n",
    "\n",
    "\n"
   ]
  },
  {
   "cell_type": "code",
   "execution_count": 6,
   "id": "international-fountain",
   "metadata": {},
   "outputs": [
    {
     "name": "stdout",
     "output_type": "stream",
     "text": [
      "Both x and y meet the conditions\n"
     ]
    }
   ],
   "source": [
    "#2. Defining Nested If Clauses\n",
    "x = 10\n",
    "y = 20\n",
    "if x > 5:\n",
    "    if y > 15:\n",
    "        print(\"Both x and y meet the conditions\")\n",
    "    else:\n",
    "        print(\"Only x meets the condition\")\n",
    "else:\n",
    "    print(\"x is not greater than 5\")\n",
    "\n"
   ]
  },
  {
   "cell_type": "code",
   "execution_count": 7,
   "id": "external-throw",
   "metadata": {},
   "outputs": [
    {
     "name": "stdout",
     "output_type": "stream",
     "text": [
      "apple\n",
      "banana\n",
      "orange\n"
     ]
    }
   ],
   "source": [
    "\n",
    "#3. Loop Instructions:\n",
    "# Loop using for loop to iterate over a list\n",
    "fruits = [\"apple\", \"banana\", \"orange\"]\n",
    "for fruit in fruits:\n",
    "    print(fruit)\n",
    "\n",
    "\n"
   ]
  },
  {
   "cell_type": "code",
   "execution_count": 9,
   "id": "global-latino",
   "metadata": {},
   "outputs": [
    {
     "name": "stdout",
     "output_type": "stream",
     "text": [
      "[1, 4, 9, 16, 25]\n"
     ]
    }
   ],
   "source": [
    "#4. List Comprehension:\n",
    "\n",
    "# List comprehension to create a list of squared numbers\n",
    "numbers = [1, 2, 3, 4, 5]\n",
    "squared_numbers = [num**2 for num in numbers]\n",
    "print(squared_numbers)\n",
    "\n",
    "\n"
   ]
  },
  {
   "cell_type": "code",
   "execution_count": 10,
   "id": "descending-zambia",
   "metadata": {},
   "outputs": [
    {
     "name": "stdout",
     "output_type": "stream",
     "text": [
      "1\n",
      "2\n"
     ]
    }
   ],
   "source": [
    "#5. Break and Continue Statements in Loops:\n",
    "\n",
    "# Using break statement to exit loop early\n",
    "numbers = [1, 2, 3, 4, 5]\n",
    "for num in numbers:\n",
    "    if num == 3:\n",
    "        break\n",
    "    print(num)\n",
    "\n"
   ]
  },
  {
   "cell_type": "code",
   "execution_count": 11,
   "id": "fundamental-found",
   "metadata": {},
   "outputs": [
    {
     "name": "stdout",
     "output_type": "stream",
     "text": [
      "1\n",
      "2\n",
      "4\n",
      "5\n"
     ]
    }
   ],
   "source": [
    "# Using continue statement to skip iteration\n",
    "numbers = [1, 2, 3, 4, 5]\n",
    "for num in numbers:\n",
    "    if num == 3:\n",
    "        continue\n",
    "    print(num)"
   ]
  },
  {
   "cell_type": "markdown",
   "id": "crude-report",
   "metadata": {},
   "source": [
    "# Conclusion:\n",
    "In conclusion, the lecture on control flow taught by Dr. Yae Gaba was a valuable learning experience that deepened my understanding of essential programming concepts in Python. I am grateful for the opportunity to enhance my skills and knowledge under Dr. Gaba's guidance. I believe that the insights gained from the session will be instrumental in facilitating my growth as a Python programmer.\n",
    "\n"
   ]
  }
 ],
 "metadata": {
  "kernelspec": {
   "display_name": "Python 3",
   "language": "python",
   "name": "python3"
  },
  "language_info": {
   "codemirror_mode": {
    "name": "ipython",
    "version": 3
   },
   "file_extension": ".py",
   "mimetype": "text/x-python",
   "name": "python",
   "nbconvert_exporter": "python",
   "pygments_lexer": "ipython3",
   "version": "3.9.2"
  }
 },
 "nbformat": 4,
 "nbformat_minor": 5
}

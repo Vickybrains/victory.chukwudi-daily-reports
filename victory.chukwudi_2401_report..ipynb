{
 "cells": [
  {
   "cell_type": "markdown",
   "id": "wireless-steps",
   "metadata": {},
   "source": [
    "# # Report on Python Lecture 1: Variables and Assignments\n",
    "\n",
    "\n",
    "Introduction\n",
    "\n",
    "In today’s lecture been 24th september 2024 taught by Dr. Yae Geba  we delved into the fundamental concepts of variables and assignments in Python. Dr. Yae Geba used Alice one of the students for illustration to enable us understand key concepts like defining a variable in python programming.\n",
    "Understanding how to use variables effectively is crucial for programming, as they serve as containers for data and facilitate data manipulation. We covered several key topics, including variable types, operations, user input, and methods associated with variables."
   ]
  },
  {
   "cell_type": "markdown",
   "id": "collectible-cancer",
   "metadata": {},
   "source": [
    "# # Key Concepts Covered\n",
    "Definition of Variables\n",
    "\n",
    "A variable is a named location in memory that stores data. In Python, variables are created when you assign a value to them using the assignment operator =. Python's dynamic typing allows variables to hold data of different types at different times.\n",
    "Types of Variables\n",
    "\n",
    "    String Types: Used to represent textual data. Strings are enclosed in quotes (single or double).\n",
    "        Example: name = \"Alice\"\n",
    "\n",
    "    Numeric Types: Include integers (int), floating-point numbers (float), and complex numbers (complex).\n",
    "        Example: age = 30 (integer) and height = 5.7 (float)\n",
    "\n",
    "    Dynamic Typing: Python allows variables to change types during execution. For example, you can assign an integer to a variable and later assign a string to the same variable.\n",
    "\n",
    "Swapping the Contents of Two Variables"
   ]
  },
  {
   "cell_type": "markdown",
   "id": "young-opera",
   "metadata": {},
   "source": [
    "# # Swapping The Content of Two variables"
   ]
  },
  {
   "cell_type": "code",
   "execution_count": 1,
   "id": "computational-niger",
   "metadata": {},
   "outputs": [
    {
     "name": "stdout",
     "output_type": "stream",
     "text": [
      "10 5\n"
     ]
    }
   ],
   "source": [
    "a, b = 5, 10\n",
    "a, b = b, a  # a is now 10, b is now 5\n",
    "\n",
    "print( a, b)  # a is now 10, b is now 5\n"
   ]
  },
  {
   "cell_type": "markdown",
   "id": "distant-apple",
   "metadata": {},
   "source": [
    "# Type of a variable"
   ]
  },
  {
   "cell_type": "code",
   "execution_count": 2,
   "id": "annoying-binding",
   "metadata": {},
   "outputs": [
    {
     "name": "stdout",
     "output_type": "stream",
     "text": [
      "<class 'int'>\n"
     ]
    }
   ],
   "source": [
    "x = 10\n",
    "print(type(x))  # Output: <class 'int'>\n"
   ]
  },
  {
   "cell_type": "markdown",
   "id": "powerful-marketing",
   "metadata": {},
   "source": [
    "# User Input"
   ]
  },
  {
   "cell_type": "code",
   "execution_count": 3,
   "id": "critical-restriction",
   "metadata": {},
   "outputs": [
    {
     "name": "stdout",
     "output_type": "stream",
     "text": [
      "Enter your name: vicky\n",
      "Hello,vicky\n"
     ]
    }
   ],
   "source": [
    "user_input = input(\"Enter your name: \")\n",
    "print(\"Hello,\" + user_input)"
   ]
  },
  {
   "cell_type": "markdown",
   "id": "closing-collective",
   "metadata": {},
   "source": [
    "# Arithemetic and logical (Boolean)Operators"
   ]
  },
  {
   "cell_type": "markdown",
   "id": "leading-marine",
   "metadata": {},
   "source": [
    "python support various arithemetic and logical operators\n",
    "Arithemetic operators: +, -, /, %\n",
    "\n",
    "logical operators: and , or, not"
   ]
  },
  {
   "cell_type": "code",
   "execution_count": 9,
   "id": "taken-satellite",
   "metadata": {},
   "outputs": [
    {
     "name": "stdout",
     "output_type": "stream",
     "text": [
      "alice\n",
      "30\n",
      "5.7\n"
     ]
    }
   ],
   "source": [
    "name = \"alice\"   #string\n",
    "age = 30      # integer\n",
    "heigth = 5.7  # float\n",
    "print(name)\n",
    "print(age)\n",
    "print( heigth)"
   ]
  },
  {
   "cell_type": "markdown",
   "id": "skilled-reducing",
   "metadata": {},
   "source": [
    "# logical operations"
   ]
  },
  {
   "cell_type": "code",
   "execution_count": 15,
   "id": "unauthorized-redhead",
   "metadata": {},
   "outputs": [
    {
     "name": "stdout",
     "output_type": "stream",
     "text": [
      "False\n",
      "True\n",
      "True\n"
     ]
    }
   ],
   "source": [
    "a = True\n",
    "b = False\n",
    "print(a and b)\n",
    "print(a or b)\n",
    "print(a!= b)"
   ]
  },
  {
   "cell_type": "markdown",
   "id": "express-trout",
   "metadata": {},
   "source": [
    "# Conclusion"
   ]
  },
  {
   "cell_type": "markdown",
   "id": "israeli-stretch",
   "metadata": {},
   "source": [
    "Today's lecture provided a solid foundation in understanding variables and variables and assignments in python. Mastery of these concepts will enable us effectively manipulate data  and build more complex programs. As we progress we will continue to explore the intricacies of Python and its applications. "
   ]
  }
 ],
 "metadata": {
  "kernelspec": {
   "display_name": "Python 3",
   "language": "python",
   "name": "python3"
  },
  "language_info": {
   "codemirror_mode": {
    "name": "ipython",
    "version": 3
   },
   "file_extension": ".py",
   "mimetype": "text/x-python",
   "name": "python",
   "nbconvert_exporter": "python",
   "pygments_lexer": "ipython3",
   "version": "3.9.2"
  }
 },
 "nbformat": 4,
 "nbformat_minor": 5
}

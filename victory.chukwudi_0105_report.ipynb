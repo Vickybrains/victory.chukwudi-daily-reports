{
 "cells": [
  {
   "cell_type": "markdown",
   "id": "basic-modern",
   "metadata": {},
   "source": [
    "# Report on class lecture\n",
    "\n",
    "Instructor: Dr. Yae Gaba\n",
    "Date: [01/10/24]\n",
    "\n",
    "Course: Introduction to Python Programming Languages\n",
    "on the 1st of october, I attended the course Python programming language. Here i solve 14 practical questions on the previous lectures on Iterable objects or Containers, strings and files, and flow control.\n"
   ]
  },
  {
   "cell_type": "markdown",
   "id": "framed-thong",
   "metadata": {},
   "source": [
    "Write a program that reads the number of the day of the week (from 0 to 6). If it is a\n",
    "working day, then the program will write the name of the corresponding day. Otherwise,\n",
    "it will write the word \"Weekend\""
   ]
  },
  {
   "cell_type": "code",
   "execution_count": 8,
   "id": "ahead-copyright",
   "metadata": {},
   "outputs": [
    {
     "data": {
      "text/plain": [
       "'Saturday'"
      ]
     },
     "execution_count": 8,
     "metadata": {},
     "output_type": "execute_result"
    }
   ],
   "source": [
    "day_of_week = [\"Sunday\", \"Monday\",\"Tuesday\",\"Wednessday\",\"Thursday\",\"Friday\",\"Saturday\"]\n",
    "day_of_week[0]\n",
    "day_of_week[1]\n",
    "day_of_week[2]\n",
    "day_of_week[3]\n",
    "day_of_week[4]\n",
    "day_of_week[5]\n",
    "day_of_week[6]\n",
    "        \n",
    "    \n",
    "    \n",
    "    \n"
   ]
  },
  {
   "cell_type": "code",
   "execution_count": 15,
   "id": "improving-nevada",
   "metadata": {},
   "outputs": [
    {
     "data": {
      "text/plain": [
       "31"
      ]
     },
     "execution_count": 15,
     "metadata": {},
     "output_type": "execute_result"
    }
   ],
   "source": [
    "month_of_the_year = {\"January\": 31, \"February\" : 28, \"March\": 31, \"April\": 30, \"May\":31, \"june\":30,\"July\":31,\"August\" : 31,\"September\":30,\"October\":31,\"November\":30,\"December\":31                    \n",
    "                    }\n",
    "month_of_the_year['January']"
   ]
  },
  {
   "cell_type": "markdown",
   "id": "neither-saudi",
   "metadata": {},
   "source": [
    "Compute the following expressions for a natural number n chosen by the user:\n",
    "(i)\n",
    "n−1\n",
    "X\n",
    "(i + 3).\n",
    "i=0\n",
    "i is odd\n",
    "(ii)\n",
    "n−1\n",
    "Y\n",
    "(i + 3).\n",
    "i=0\n",
    "i is even"
   ]
  },
  {
   "cell_type": "code",
   "execution_count": 17,
   "id": "vanilla-application",
   "metadata": {},
   "outputs": [
    {
     "name": "stdout",
     "output_type": "stream",
     "text": [
      "Enter a natural number: 2\n",
      "Sum for odd i (0 to 1): 4\n",
      "Sum for even i (0 to 1): 3\n"
     ]
    }
   ],
   "source": [
    "\n",
    "n = int(input(\"Enter a natural number: \"))\n",
    "\n",
    "if n <= 0:\n",
    "    print(\"Please enter a natural number greater than 0.\")\n",
    "else:\n",
    "    sum_odd = 0\n",
    "    sum_even = 0\n",
    "\n",
    "    for i in range(n):\n",
    "        if i % 2 == 1:  \n",
    "            sum_odd += (i + 3)\n",
    "        else:           \n",
    "            sum_even += (i + 3)\n",
    "\n",
    "    print(f\"Sum for odd i (0 to {n-1}): {sum_odd}\")\n",
    "    print(f\"Sum for even i (0 to {n-1}): {sum_even}\")\n"
   ]
  },
  {
   "cell_type": "markdown",
   "id": "varied-digit",
   "metadata": {},
   "source": [
    "Write two versions of python code that displays your name 3 times. One version with a\n",
    "\"for loop\" and another version with a \"while loop\"."
   ]
  },
  {
   "cell_type": "code",
   "execution_count": 18,
   "id": "brilliant-transport",
   "metadata": {},
   "outputs": [
    {
     "name": "stdout",
     "output_type": "stream",
     "text": [
      "Chukwudi Victory\n",
      "Chukwudi Victory\n",
      "Chukwudi Victory\n"
     ]
    }
   ],
   "source": [
    "for _ in range(3):\n",
    "    print(\"Chukwudi Victory\")  \n"
   ]
  },
  {
   "cell_type": "markdown",
   "id": "quantitative-observation",
   "metadata": {},
   "source": [
    "Given two numbers a 0 and a 1 , the Fibonacci sequence they generate is constructed from\n",
    "the recursion formula a n+1 = a n + a n−1 . Calculate the first 15 terms of a Fibonacci\n",
    "sequence, asking the user the initial values."
   ]
  },
  {
   "cell_type": "code",
   "execution_count": 19,
   "id": "requested-exploration",
   "metadata": {},
   "outputs": [
    {
     "name": "stdout",
     "output_type": "stream",
     "text": [
      "Enter the first number (a0): 2\n",
      "Enter the second number (a1): 4\n",
      "The first 15 terms of the Fibonacci sequence are:\n",
      "[2, 4, 6, 10, 16, 26, 42, 68, 110, 178, 288, 466, 754, 1220, 1974]\n"
     ]
    }
   ],
   "source": [
    "a0 = int(input(\"Enter the first number (a0): \"))\n",
    "a1 = int(input(\"Enter the second number (a1): \"))\n",
    "\n",
    "fibonacci_sequence = [a0, a1]\n",
    "for i in range(2, 15):\n",
    "    next_term = fibonacci_sequence[i - 1] + fibonacci_sequence[i - 2]\n",
    "    fibonacci_sequence.append(next_term)\n",
    "print(\"The first 15 terms of the Fibonacci sequence are:\")\n",
    "print(fibonacci_sequence)\n"
   ]
  },
  {
   "cell_type": "markdown",
   "id": "solar-buddy",
   "metadata": {},
   "source": [
    "Make a program that, given a month number (from 0 to 11), indicates how many days it\n",
    "has (28, 30 or 31), ignoring the leap years."
   ]
  },
  {
   "cell_type": "code",
   "execution_count": 21,
   "id": "minus-interim",
   "metadata": {},
   "outputs": [
    {
     "name": "stdout",
     "output_type": "stream",
     "text": [
      "Enter a year: 12\n",
      "12 is a leap year: True\n"
     ]
    }
   ],
   "source": [
    "year = int(input(\"Enter a year: \"))\n",
    "is_leap_year = (year % 4 == 0) and (year % 100 != 0 or year % 400 == 0)\n",
    "print(f\"{year} is a leap year: {is_leap_year}\")\n"
   ]
  },
  {
   "cell_type": "markdown",
   "id": "coated-money",
   "metadata": {},
   "source": [
    "Write python code that computes the sum of the square of the first n natural numbers.\n",
    "One version with a \"for loop\" and another version with a \"while loop\"."
   ]
  },
  {
   "cell_type": "code",
   "execution_count": 24,
   "id": "thrown-johnston",
   "metadata": {},
   "outputs": [
    {
     "name": "stdout",
     "output_type": "stream",
     "text": [
      "Enter a natural number (n): 5\n",
      "The sum of the squares of the first 5 natural numbers is: 55\n",
      "Enter a natural number (n): 6\n",
      "The sum of the squares of the first 6 natural numbers is: 91\n"
     ]
    }
   ],
   "source": [
    "n = int(input(\"Enter a natural number (n): \"))\n",
    "\n",
    "sum_of_squares = 0\n",
    "\n",
    "for i in range(1, n + 1):\n",
    "    sum_of_squares += i ** 2\n",
    "print(f\"The sum of the squares of the first {n} natural numbers is: {sum_of_squares}\")\n",
    "\n",
    "n = int(input(\"Enter a natural number (n): \"))\n",
    "\n",
    "sum_of_squares = 0\n",
    "i = 1\n",
    "\n",
    "while i <= n:\n",
    "    sum_of_squares += i ** 2\n",
    "    i += 1  \n",
    "print(f\"The sum of the squares of the first {n} natural numbers is: {sum_of_squares}\")\n"
   ]
  },
  {
   "cell_type": "markdown",
   "id": "aggressive-pipeline",
   "metadata": {},
   "source": [
    "Write python code that prints all the divisors of a given natural number.\n",
    "1b) Read an integer number input by the user and calculate its prime factors. This will\n",
    "just be some of its divisors."
   ]
  },
  {
   "cell_type": "code",
   "execution_count": 26,
   "id": "communist-pointer",
   "metadata": {},
   "outputs": [
    {
     "name": "stdout",
     "output_type": "stream",
     "text": [
      "Enter a natural number: 15\n",
      "Divisors of 15:\n",
      "1 3 5 15 \n",
      "Prime factors of 15: [3, 5]\n"
     ]
    }
   ],
   "source": [
    "\n",
    "number = int(input(\"Enter a natural number: \"))\n",
    "\n",
    "if number <= 0:\n",
    "    print(\"Please enter a natural number greater than 0.\")\n",
    "else:\n",
    "    print(f\"Divisors of {number}:\")\n",
    "    for i in range(1, number + 1):\n",
    "        if number % i == 0:\n",
    "            print(i, end=' ')\n",
    "    print()  \n",
    "    factors = []\n",
    "    n = number\n",
    "    divisor = 2  \n",
    "    while n > 1:\n",
    "        while n % divisor == 0:\n",
    "            factors.append(divisor)\n",
    "            n //= divisor  \n",
    "        divisor += 1  \n",
    "\n",
    "    print(f\"Prime factors of {number}: {factors}\")\n",
    "\n"
   ]
  },
  {
   "cell_type": "markdown",
   "id": "moderate-amateur",
   "metadata": {},
   "source": [
    "Write a program that prints all the numbers between 0 and 40 that are multiples of 3, 7\n",
    "or 11."
   ]
  },
  {
   "cell_type": "code",
   "execution_count": 27,
   "id": "illegal-champagne",
   "metadata": {},
   "outputs": [
    {
     "name": "stdout",
     "output_type": "stream",
     "text": [
      "Numbers between 0 and 40 that are multiples of 3, 7, or 11:\n",
      "0 3 6 7 9 11 12 14 15 18 21 22 24 27 28 30 33 35 36 39 "
     ]
    }
   ],
   "source": [
    "print(\"Numbers between 0 and 40 that are multiples of 3, 7, or 11:\")\n",
    "for i in range(41):  \n",
    "    if i % 3 == 0 or i % 7 == 0 or i % 11 == 0:\n",
    "        print(i, end=' ')\n"
   ]
  },
  {
   "cell_type": "markdown",
   "id": "mathematical-regression",
   "metadata": {},
   "source": [
    "Compute the first 30 terms of the sequence defined by 2x n+2 − x n+1 − 6x n = 0 sequence,\n",
    "given any two initial values x 0 and x 1"
   ]
  },
  {
   "cell_type": "code",
   "execution_count": 28,
   "id": "dedicated-spanish",
   "metadata": {},
   "outputs": [
    {
     "name": "stdout",
     "output_type": "stream",
     "text": [
      "Enter the first initial value (x0): 2\n",
      "Enter the second initial value (x1): 4\n",
      "The first 30 terms of the sequence are:\n",
      "[2.0, 4.0, 8.0, 16.0, 32.0, 64.0, 128.0, 256.0, 512.0, 1024.0, 2048.0, 4096.0, 8192.0, 16384.0, 32768.0, 65536.0, 131072.0, 262144.0, 524288.0, 1048576.0, 2097152.0, 4194304.0, 8388608.0, 16777216.0, 33554432.0, 67108864.0, 134217728.0, 268435456.0, 536870912.0, 1073741824.0]\n"
     ]
    }
   ],
   "source": [
    "\n",
    "x0 = float(input(\"Enter the first initial value (x0): \"))\n",
    "x1 = float(input(\"Enter the second initial value (x1): \"))\n",
    "\n",
    "\n",
    "sequence = [x0, x1]\n",
    "for n in range(28):  \n",
    "    x_next = (x1 + 6 * x0) / 2  \n",
    "    sequence.append(x_next)\n",
    "    x0, x1 = x1, x_next  \n",
    "print(\"The first 30 terms of the sequence are:\")\n",
    "print(sequence)\n"
   ]
  },
  {
   "cell_type": "markdown",
   "id": "challenging-storage",
   "metadata": {},
   "source": [
    "Read an integer number between n 0 and 9 and print its multiplication table up to N\n",
    "where N is another another natural number read by the program."
   ]
  },
  {
   "cell_type": "code",
   "execution_count": 31,
   "id": "photographic-browse",
   "metadata": {},
   "outputs": [
    {
     "name": "stdout",
     "output_type": "stream",
     "text": [
      "Enter an integer number between 0 and 9: 4\n",
      "Enter a natural number N for the multiplication table: 12\n",
      "Multiplication table for 4 up to 12:\n",
      "4 x 1 = 4\n",
      "4 x 2 = 8\n",
      "4 x 3 = 12\n",
      "4 x 4 = 16\n",
      "4 x 5 = 20\n",
      "4 x 6 = 24\n",
      "4 x 7 = 28\n",
      "4 x 8 = 32\n",
      "4 x 9 = 36\n",
      "4 x 10 = 40\n",
      "4 x 11 = 44\n",
      "4 x 12 = 48\n"
     ]
    }
   ],
   "source": [
    "number = int(input(\"Enter an integer number between 0 and 9: \"))\n",
    "\n",
    "if 0 <= number <= 9:\n",
    "    N = int(input(\"Enter a natural number N for the multiplication table: \"))\n",
    "    \n",
    "    print(f\"Multiplication table for {number} up to {N}:\")\n",
    "    for i in range(1, N + 1):\n",
    "        print(f\"{number} x {i} = {number * i}\")\n",
    "else:\n",
    "    print(\"Please enter a valid number between 0 and 9.\")\n"
   ]
  },
  {
   "cell_type": "markdown",
   "id": "binary-metropolitan",
   "metadata": {},
   "source": [
    "Ask for an integer number between 0 and 9, denoted x. Once the user has entered a correct\n",
    "number (that is one in the range [0..10)) the program asks for a second integer number\n",
    "between 0 and 255, denoted max. The program continues asking for the number until it\n",
    "is correct (that it is in the range [0..256)). When this is done, show all multiples of x that\n",
    "are between 0 and max. Then, ask the user whether he/she wants to continue; if in the\n",
    "affirmative, ask for another couple of numbers, otherwise finish."
   ]
  },
  {
   "cell_type": "code",
   "execution_count": 35,
   "id": "prescription-duration",
   "metadata": {},
   "outputs": [
    {
     "name": "stdout",
     "output_type": "stream",
     "text": [
      "Enter an integer number between 0 and 9: 5\n",
      "Enter an integer number between 0 and 255: 7\n",
      "Enter an integer number between 0 and 255: 9\n",
      "Multiples of 5 between 0 and 9:\n",
      "0 5 \n",
      "Do you want to continue? (yes/no): y\n"
     ]
    }
   ],
   "source": [
    "while True:\n",
    "    x = int(input(\"Enter an integer number between 0 and 9: \"))\n",
    "    \n",
    "    while x < 0 or x >= 10:\n",
    "        print(\"Invalid input! Please enter a number in the range [0..9).\")\n",
    "        x = int(input(\"Enter an integer number between 0 and 9: \"))\n",
    "    max_value = int(input(\"Enter an integer number between 0 and 255: \"))\n",
    "    \n",
    "    while max_value < 0 or max_value >= 256:\n",
    "        print(\"Invalid input! Please enter a number in the range [0..256).\")\n",
    "    max_value = int(input(\"Enter an integer number between 0 and 255: \"))\n",
    "\n",
    "    print(f\"Multiples of {x} between 0 and {max_value}:\")\n",
    "    for i in range(0, max_value + 1, x):\n",
    "        print(i, end=' ')\n",
    "    print()  \n",
    "\n",
    "    \n",
    "    continue_again = input(\"Do you want to continue? (yes/no): \").strip().lower()\n",
    "    if continue_again != 'yes':\n",
    "        break\n"
   ]
  },
  {
   "cell_type": "markdown",
   "id": "retired-moses",
   "metadata": {},
   "source": [
    "Write python code that prints the floor of a float x. Recall that the floor of a float x is the\n",
    "largest integer value less than or equal to x, i.e. if E[x] is the floor of x, then it satisfies,\n",
    "E[x] = 1 + E[x − 1]\n",
    "PS: On Friday, you will be asked to write a recursive version of the above program."
   ]
  },
  {
   "cell_type": "code",
   "execution_count": 36,
   "id": "distant-painting",
   "metadata": {},
   "outputs": [
    {
     "name": "stdout",
     "output_type": "stream",
     "text": [
      "Enter a float number: 3.5\n",
      "The floor of 3.5 is: 3\n"
     ]
    }
   ],
   "source": [
    "\n",
    "x = float(input(\"Enter a float number: \"))\n",
    "\n",
    "if x >= 0:\n",
    "    floor_x = int(x)  \n",
    "else:\n",
    "    floor_x = int(x) if x == int(x) else int(x) - 1  \n",
    "\n",
    "print(f\"The floor of {x} is: {floor_x}\")\n"
   ]
  },
  {
   "cell_type": "markdown",
   "id": "physical-thanksgiving",
   "metadata": {},
   "source": [
    "Given a point in the plane by its Cartesian coordinates, determine in which quadrant it is\n",
    "(1st, 2nd, 3rd, 4th), if it lies on an axis, or if it is the origin. Do this for several points in\n",
    "the same execution of the program until the user quits."
   ]
  },
  {
   "cell_type": "code",
   "execution_count": 37,
   "id": "tutorial-story",
   "metadata": {},
   "outputs": [
    {
     "name": "stdout",
     "output_type": "stream",
     "text": [
      "Enter the coordinates (x, y) or type 'quit' to exit: 1\n",
      "Invalid input! Please enter coordinates in the format x,y (e.g., 3,4).\n",
      "Enter the coordinates (x, y) or type 'quit' to exit: 2\n",
      "Invalid input! Please enter coordinates in the format x,y (e.g., 3,4).\n",
      "Enter the coordinates (x, y) or type 'quit' to exit: 0\n",
      "Invalid input! Please enter coordinates in the format x,y (e.g., 3,4).\n",
      "Enter the coordinates (x, y) or type 'quit' to exit: 4\n",
      "Invalid input! Please enter coordinates in the format x,y (e.g., 3,4).\n",
      "Enter the coordinates (x, y) or type 'quit' to exit: -1\n",
      "Invalid input! Please enter coordinates in the format x,y (e.g., 3,4).\n",
      "Enter the coordinates (x, y) or type 'quit' to exit: 7\n",
      "Invalid input! Please enter coordinates in the format x,y (e.g., 3,4).\n",
      "Enter the coordinates (x, y) or type 'quit' to exit: quit\n",
      "Program terminated.\n"
     ]
    }
   ],
   "source": [
    "while True:\n",
    "    user_input = input(\"Enter the coordinates (x, y) or type 'quit' to exit: \")\n",
    "\n",
    "    if user_input.lower() == 'quit':\n",
    "        break  \n",
    "\n",
    "    try:\n",
    "        x, y = map(float, user_input.split(','))\n",
    "        if x == 0 and y == 0:\n",
    "            print(\"The point is at the origin.\")\n",
    "        elif x == 0:\n",
    "            print(\"The point lies on the Y-axis.\")\n",
    "        elif y == 0:\n",
    "            print(\"The point lies on the X-axis.\")\n",
    "        elif x > 0 and y > 0:\n",
    "            print(\"The point is in the 1st quadrant.\")\n",
    "        elif x < 0 and y > 0:\n",
    "            print(\"The point is in the 2nd quadrant.\")\n",
    "        elif x < 0 and y < 0:\n",
    "            print(\"The point is in the 3rd quadrant.\")\n",
    "        elif x > 0 and y < 0:\n",
    "            print(\"The point is in the 4th quadrant.\")\n",
    "    \n",
    "    except ValueError:\n",
    "        print(\"Invalid input! Please enter coordinates in the format x,y (e.g., 3,4).\")\n",
    "\n",
    "print(\"Program terminated.\")\n"
   ]
  },
  {
   "cell_type": "markdown",
   "id": "sweet-score",
   "metadata": {},
   "source": [
    " Write python code that prints, for a natural number M , the smallest natural number\n",
    "n such that 1 2 + 2 2 + · · · + n 2 ≥ M. One version with a \"for loop\" and another version\n",
    "with a \"while loop\""
   ]
  },
  {
   "cell_type": "code",
   "execution_count": 38,
   "id": "ranking-smell",
   "metadata": {},
   "outputs": [
    {
     "name": "stdout",
     "output_type": "stream",
     "text": [
      "Enter a natural number M: 4\n",
      "The smallest natural number n such that 1^2 + 2^2 + ... + n^2 ≥ 4 is: 2\n"
     ]
    }
   ],
   "source": [
    "\n",
    "M = int(input(\"Enter a natural number M: \"))\n",
    "sum_of_squares = 0\n",
    "for n in range(1, M * 2):  \n",
    "    sum_of_squares += n ** 2\n",
    "    if sum_of_squares >= M:\n",
    "        print(f\"The smallest natural number n such that 1^2 + 2^2 + ... + n^2 ≥ {M} is: {n}\")\n",
    "        break\n"
   ]
  },
  {
   "cell_type": "markdown",
   "id": "compact-detective",
   "metadata": {},
   "source": [
    "# Conclusion"
   ]
  },
  {
   "cell_type": "markdown",
   "id": "frequent-theology",
   "metadata": {},
   "source": [
    "This practical lecture was instrumental in establishing my foundational understanding and provided time for me to learn and try new things.\n"
   ]
  }
 ],
 "metadata": {
  "kernelspec": {
   "display_name": "Python 3",
   "language": "python",
   "name": "python3"
  },
  "language_info": {
   "codemirror_mode": {
    "name": "ipython",
    "version": 3
   },
   "file_extension": ".py",
   "mimetype": "text/x-python",
   "name": "python",
   "nbconvert_exporter": "python",
   "pygments_lexer": "ipython3",
   "version": "3.9.2"
  }
 },
 "nbformat": 4,
 "nbformat_minor": 5
}

{
 "cells": [
  {
   "cell_type": "markdown",
   "id": "broadband-leone",
   "metadata": {},
   "source": [
    "The course (Python Programming) started on Monday, 23rd of september by 2:00pm at African institute for mathematical science at Rwanda, Kigali. This course was taught was taught by Dr.Yae Gaba. He introduced the preparatory courses and outlining the plan for the Python lectures. Dr. Yae Gaba before teaching us, asked us to engagae in a 10 minutes Aims -RW--PyPro-pre-assessment@2024-25 response form to enable him know our strengths and foundation in pyton programming language and other programming language. Aside that, the response form also contains some personal questions. Students engaged by raising questions about commands used in python and how to create a file. Dr.Yae Gaba covered various aspects of these questions, providing a comprehensive exploration of the subject matter.\n",
    "Dr.Yae Gaba also asked us if we have downloaded jupyter notebook, joined the group on stack, and installed anaconda. Dr.Yae Geba taught us how to upload file on github, create repository and make daily reports on our repository using one of the students veronica to illustrate this process to enhance our understanding. He further taught us how to copy ones repository url to the terminal using \"git clone\" and  differents commands used in jupyter notebook and also asked us to memorise it as it will  be useful while coding.\n",
    "\n",
    "The class concluded with a comprehensive discussion on this commands used in jupyter notebook, covering its basics commands.\n"
   ]
  }
 ],
 "metadata": {
  "kernelspec": {
   "display_name": "Python 3",
   "language": "python",
   "name": "python3"
  },
  "language_info": {
   "codemirror_mode": {
    "name": "ipython",
    "version": 3
   },
   "file_extension": ".py",
   "mimetype": "text/x-python",
   "name": "python",
   "nbconvert_exporter": "python",
   "pygments_lexer": "ipython3",
   "version": "3.9.2"
  }
 },
 "nbformat": 4,
 "nbformat_minor": 5
}

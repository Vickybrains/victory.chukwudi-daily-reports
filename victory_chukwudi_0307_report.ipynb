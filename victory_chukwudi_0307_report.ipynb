{
 "cells": [
  {
   "cell_type": "markdown",
   "metadata": {
    "id": "sm-kMbirqqyt"
   },
   "source": [
    "# PyPro: challenge 1 \n",
    "\n",
    "### This challenge is due on Sunday 29th September 2024 at 8pm.\n",
    "\n",
    "`These exercises provide a wide range of challenges that test your understanding of Python's core concepts, such as control structures, data types, string manipulations, list comprehensions, and higher-order functions.`\n",
    "\n",
    "\n",
    "#### Basic Tasks\n",
    "\n",
    "1. Create a function `find_max()` that accepts two numeric inputs and returns the greater value. Avoid using the built-in `max()` function.\n",
    "\n",
    "2. Develop a function `find_max_of_three()` to find the maximum among three given numbers.\n",
    "\n",
    "3. Write a function to manually calculate the length of a given list or string without using `len()`.\n",
    "\n",
    "4. Implement a function that checks if a given character is a vowel (a, e, i, o, u).\n",
    "\n",
    "5. Write a function `encode()` that converts a string into \"rövarspråket\" ([robber's language](https://en.wikipedia.org/wiki/R%C3%B6varspr%C3%A5ket)) by doubling consonants and placing \"o\" in between, e.g., \"hello\" -> \"hohelollolo\".\n",
    "\n",
    "6. Create `sum_elements()` and `product_elements()` functions to sum and multiply all elements in a list, respectively.\n",
    "\n",
    "7. Define a function `reverse_string()` to reverse the characters in a given string.\n",
    "\n",
    "8. Implement `check_palindrome()` to verify if a string reads the same forwards and backwards, i.e. is a [palindrome](https://en.wikipedia.org/wiki/Palindrome).\n",
    "\n",
    "9. Develop a function `check_membership()` to determine if a value exists within a list.\n",
    "\n",
    "10. Write `check_overlap()` to identify if two lists share any elements.\n",
    "\n",
    "11. Implement `repeat_char()` that generates a string with a specified character repeated `n` times.\n",
    "\n",
    "12. Create a function `print_histogram()` that takes a list of integers and prints a corresponding histogram.\n",
    "\n",
    "13. Write `find_max_in_list()` to identify the largest number in a list of arbitrary length.\n",
    "\n",
    "14. Create a program that maps each word in a list to its length.\n",
    "\n",
    "15. Implement `longest_word()` to find the longest word in a list.\n",
    "\n",
    "16. Develop `filter_words()` to return words longer than a specified length from a list.\n",
    "\n",
    "17. Enhance the palindrome recognizer to handle phrases, ignoring spaces, punctuation, and case.\n",
    "\n",
    "18. Implement a function that checks if a given sentence is a [pangram](https://en.wikipedia.org/wiki/Pangram).\n",
    "\n",
    "19. Write a function that generates verses for the \"99 Bottles of Beer\" song.\n",
    "\n",
    "20. Create a translation function using a small dictionary to translate English words into French/.\n",
    "\n",
    "21. Develop `char_frequency()` to build a dictionary of character frequencies in a string.\n",
    "\n",
    "22. Implement a [Caesar cipher encoder/decoder using a shift of 13 (ROT-13)](https://en.wikipedia.org/wiki/ROT13).\n",
    "\n",
    "23. Create `fix_spaces()` to correct multiple spaces and missing spaces after periods in a text.\n",
    "\n",
    "24. Write `convert_to_third_person()` to transform verbs into their third person singular form.\n",
    "\n",
    "25. Implement `make_ing_form()` to convert verbs into their present participle form using heuristic rules.\n",
    "\n",
    "\n",
    "\n",
    "\n",
    "\n",
    "#### Higher-Order Functions and List Comprehensions\n",
    "\n",
    "26. Use `reduce()` to write `max_in_list()` that returns the largest number in a list.\n",
    "\n",
    "27. Write a program that maps words to their lengths using a for-loop, `map()`, and list comprehensions.\n",
    "\n",
    "28. Implement `find_longest_word()` using only higher-order functions.\n",
    "\n",
    "29. Use `filter()` to write `filter_long_words()` that filters words longer than `n`.\n",
    "\n",
    "30. Create `translate_with_map()` to translate English words to French using `map()`.\n",
    "\n",
    "31. Re-implement the higher-order functions `map()`, `filter()`, and `reduce()` from scratch.\n",
    "\n",
    "\n",
    "\n",
    "\n",
    "\n",
    "#### Simple Tasks with I/O\n",
    "\n",
    "32. Write a palindrome recognizer that reads lines from a file and prints only the palindromes.\n",
    "\n",
    "33. Implement a [semordnilap](https://en.wiktionary.org/wiki/semordnilap) recognizer that finds word pairs from a file where each word is the reverse of the other.\n",
    "\n",
    "34. Create `char_frequency_table()` to display a sorted character frequency table from a file.\n",
    "\n",
    "35. Write a function `speak_ICAO()` that translates text into the [ICAO phonetic alphabet](https://en.wikipedia.org/wiki/NATO_phonetic_alphabet).\n",
    "\n",
    "36. Implement `find_hapaxes()` to identify words that occur only once in a text file.\n",
    "\n",
    "37. Write a program that numbers each line in a text file.\n",
    "\n",
    "38. Calculate the average word length in a text file.\n",
    "\n",
    "39. Implement a number-guessing game where the user guesses a number between 1 and 20.\n",
    "\n",
    "40. Write a program that presents an [anagram](https://en.wikipedia.org/wiki/Anagram) of a randomly chosen word and allows the user to guess the original.\n",
    "\n",
    "41. Create a [Lingo game](https://en.wikipedia.org/wiki/Lingo_(American_game_show)) where players guess a hidden word, receiving clues about correct and misplaced characters.\n",
    "\n",
    "\n",
    "\n",
    "#### Advanced Tasks\n",
    "\n",
    "42. Develop a sentence splitter that separates a text into sentences based on various heuristics.\n",
    "\n",
    "43. Write a program to find the largest group of anagrams in a given word list.\n",
    "\n",
    "44. Generate a string of balanced brackets and verify if it is balanced.\n",
    "\n",
    "45. Create a word chain game where each word starts with the last letter of the previous one, using a list of [Pokemon names](https://en.wikipedia.org/wiki/List_of_Pok%C3%A9mon)."
   ]
  },
  {
   "cell_type": "markdown",
   "metadata": {},
   "source": [
    "REPORT ON TODAYS LECTURE\n",
    "\n",
    "DATE:03/10/2024 \n",
    "\n",
    "INSTRUCTOR: Dr. Yae Gaba\n",
    "\n",
    "On this day, been the 3rd of october i atttended lecture on python programming. The instructor Dr. Yae Gaba decided to test our programming skills using the pypro:challenge 1. A challenge that constitute of questions inline with everything he has been teaching us.\n",
    "I decided to work on this challenge and was able to produce the following output."
   ]
  },
  {
   "cell_type": "code",
   "execution_count": null,
   "metadata": {},
   "outputs": [],
   "source": [
    "#1\n",
    "def find_max(a, b):\n",
    "    if a > b:\n",
    "        return a\n",
    "    else:\n",
    "        return b\n"
   ]
  },
  {
   "cell_type": "code",
   "execution_count": null,
   "metadata": {},
   "outputs": [],
   "source": [
    "#2\n",
    "def find_max_of_three(a, b, c):\n",
    "    max_value = a\n",
    "    if b > max_value:\n",
    "        max_value = b\n",
    "    if c > max_value:\n",
    "        max_value = c\n",
    "    return max_value\n"
   ]
  },
  {
   "cell_type": "code",
   "execution_count": null,
   "metadata": {},
   "outputs": [],
   "source": [
    "#3\n",
    "def manual_length(item):\n",
    "    count = 0\n",
    "    for i in item:\n",
    "        count += 1\n",
    "    return count\n"
   ]
  },
  {
   "cell_type": "code",
   "execution_count": null,
   "metadata": {},
   "outputs": [],
   "source": [
    "#4\n",
    "def is_vowel(char):\n",
    "    vowels = \"aeiou\"\n",
    "    return char.lower() in vowels\n"
   ]
  },
  {
   "cell_type": "code",
   "execution_count": null,
   "metadata": {},
   "outputs": [],
   "source": [
    "#5\n",
    "def encode(text):\n",
    "    vowels = \"aeiou\"\n",
    "    result = \"\"\n",
    "    for char in text:\n",
    "        if char.lower() not in vowels and char.isalpha():  # Check if it's a consonant\n",
    "            result += char + 'o' + char\n",
    "        else:\n",
    "            result += char\n",
    "    return result\n"
   ]
  },
  {
   "cell_type": "code",
   "execution_count": null,
   "metadata": {},
   "outputs": [],
   "source": [
    "#6\n",
    "def sum_elements(lst):\n",
    "    total = 0\n",
    "    for num in lst:\n",
    "        total += num\n",
    "    return total\n",
    "\n",
    "def product_elements(lst):\n",
    "    product = 1\n",
    "    for num in lst:\n",
    "        product *= num\n",
    "    return product\n"
   ]
  },
  {
   "cell_type": "code",
   "execution_count": null,
   "metadata": {},
   "outputs": [],
   "source": [
    "#7\n",
    "def reverse_string(s):\n",
    "    return s[::-1]\n"
   ]
  },
  {
   "cell_type": "code",
   "execution_count": null,
   "metadata": {},
   "outputs": [],
   "source": [
    "#8\n",
    "def check_palindrome(s):\n",
    "    return s == s[::-1]\n"
   ]
  },
  {
   "cell_type": "code",
   "execution_count": null,
   "metadata": {},
   "outputs": [],
   "source": [
    "#9\n",
    "def check_membership(value, lst):\n",
    "    return value in lst\n"
   ]
  },
  {
   "cell_type": "code",
   "execution_count": null,
   "metadata": {},
   "outputs": [],
   "source": [
    "#10\n",
    "def check_overlap(lst1, lst2):\n",
    "    for item in lst1:\n",
    "        if item in lst2:\n",
    "            return True\n",
    "    return False\n"
   ]
  },
  {
   "cell_type": "code",
   "execution_count": null,
   "metadata": {},
   "outputs": [],
   "source": [
    "#11\n",
    "def repeat_char(char, n):\n",
    "    return char * n\n"
   ]
  },
  {
   "cell_type": "code",
   "execution_count": null,
   "metadata": {},
   "outputs": [],
   "source": [
    "#12\n",
    "def print_histogram(lst):\n",
    "    for num in lst:\n",
    "        print('*' * num)\n"
   ]
  },
  {
   "cell_type": "code",
   "execution_count": null,
   "metadata": {},
   "outputs": [],
   "source": [
    "#13\n",
    "def find_max_in_list(lst):\n",
    "    max_value = lst[0]\n",
    "    for num in lst:\n",
    "        if num > max_value:\n",
    "            max_value = num\n",
    "    return max_value\n"
   ]
  },
  {
   "cell_type": "code",
   "execution_count": null,
   "metadata": {},
   "outputs": [],
   "source": [
    "#14\n",
    "def word_lengths(words):\n",
    "    return {word: len(word) for word in words}\n"
   ]
  },
  {
   "cell_type": "code",
   "execution_count": null,
   "metadata": {},
   "outputs": [],
   "source": [
    "#15\n",
    "def word_lengths(words):\n",
    "    return {word: len(word) for word in words}\n"
   ]
  },
  {
   "cell_type": "code",
   "execution_count": null,
   "metadata": {},
   "outputs": [],
   "source": [
    "#16\n",
    "def longest_word(words):\n",
    "    max_length_word = words[0]\n",
    "    for word in words:\n",
    "        if len(word) > len(max_length_word):\n",
    "            max_length_word = word\n",
    "    return max_length_word\n"
   ]
  },
  {
   "cell_type": "code",
   "execution_count": null,
   "metadata": {},
   "outputs": [],
   "source": [
    "#17\n",
    "def filter_words(words, min_length):\n",
    "    return [word for word in words if len(word) > min_length]\n"
   ]
  },
  {
   "cell_type": "code",
   "execution_count": null,
   "metadata": {},
   "outputs": [],
   "source": [
    "#18\n",
    "import string\n",
    "\n",
    "def check_phrase_palindrome(phrase):\n",
    "    cleaned = ''.join(char.lower() for char in phrase if char.isalpha())\n",
    "    return cleaned == cleaned[::-1]\n"
   ]
  },
  {
   "cell_type": "code",
   "execution_count": null,
   "metadata": {},
   "outputs": [],
   "source": [
    "#19\n",
    "def is_pangram(sentence):\n",
    "    alphabet = set('abcdefghijklmnopqrstuvwxyz')\n",
    "    return alphabet <= set(sentence.lower())\n"
   ]
  },
  {
   "cell_type": "code",
   "execution_count": null,
   "metadata": {},
   "outputs": [],
   "source": [
    "#20\n",
    "def sing_bottles_of_beer():\n",
    "    for i in range(99, 0, -1):\n",
    "        print(f\"{i} bottles of beer on the wall, {i} bottles of beer.\")\n",
    "        print(f\"Take one down, pass it around, {i-1} bottles of beer on the wall.\")\n"
   ]
  },
  {
   "cell_type": "code",
   "execution_count": null,
   "metadata": {},
   "outputs": [],
   "source": [
    "#21\n",
    "def translate(word, dictionary):\n",
    "    return dictionary.get(word, \"Translation not found\")\n",
    "eng_to_french = {\n",
    "    'hello': 'bonjour',\n",
    "    'cat': 'chat',\n",
    "    'dog': 'chien',\n",
    "}\n"
   ]
  },
  {
   "cell_type": "code",
   "execution_count": null,
   "metadata": {},
   "outputs": [],
   "source": [
    "#22\n",
    "def char_frequency(s):\n",
    "    freq_dict = {}\n",
    "    for char in s:\n",
    "        if char in freq_dict:\n",
    "            freq_dict[char] += 1\n",
    "        else:\n",
    "            freq_dict[char] = 1\n",
    "    return freq_dict\n"
   ]
  },
  {
   "cell_type": "code",
   "execution_count": 3,
   "metadata": {},
   "outputs": [],
   "source": [
    "#23\n",
    "def caesar_cipher(text):\n",
    "    result = ''\n",
    "    for char in text:\n",
    "        if char.isalpha():\n",
    "            shift = 13\n",
    "            if char.islower():\n",
    "                result += chr((ord(char) - ord('a') + shift) % 26 + ord('a'))\n",
    "            else:\n",
    "                result += chr((ord(char) - ord('A') + shift) % 26 + ord('A'))\n",
    "        else:\n",
    "            result += char\n",
    "    return result\n"
   ]
  },
  {
   "cell_type": "code",
   "execution_count": 1,
   "metadata": {},
   "outputs": [],
   "source": [
    "#24\n",
    "def fix_spaces(text):\n",
    "    fixed = ' '.join(text.split())\n",
    "    return fixed.replace('. ', '.')\n"
   ]
  },
  {
   "cell_type": "code",
   "execution_count": 2,
   "metadata": {},
   "outputs": [],
   "source": [
    "#25\n",
    "def convert_to_third_person(verb):\n",
    "    if verb.endswith('y'):\n",
    "        return verb[:-1] + 'ies'\n",
    "    elif verb.endswith(('o', 'ch', 'sh', 's', 'x', 'z')):\n",
    "        return verb + 'es'\n",
    "    else:\n",
    "        return verb + 's'\n",
    "\n",
    "def make_ing_form(verb):\n",
    "    if verb.endswith('e') and len(verb) > 2:\n",
    "        return verb[:-1] + 'ing'\n",
    "    elif verb.endswith('ie'):\n",
    "        return verb[:-2] + 'ying'\n",
    "    else:\n",
    "        return verb + 'ing'\n"
   ]
  },
  {
   "cell_type": "code",
   "execution_count": null,
   "metadata": {},
   "outputs": [],
   "source": [
    "#26\n",
    "from functools import reduce\n",
    "\n",
    "def max_in_list(lst):\n",
    "    return reduce(lambda a, b: a if a > b else b, lst)\n",
    "numbers = [3, 5, 2, 8, 1]\n",
    "print(max_in_list(numbers))  \n"
   ]
  },
  {
   "cell_type": "code",
   "execution_count": null,
   "metadata": {},
   "outputs": [],
   "source": [
    "#27\n",
    "def word_lengths_for_loop(words):\n",
    "    result = []\n",
    "    for word in words:\n",
    "        result.append((word, len(word)))\n",
    "    return result\n",
    "words = ['apple', 'banana', 'cherry']\n",
    "print(word_lengths_for_loop(words))  \n",
    "def word_lengths_map(words):\n",
    "    return list(map(lambda word: (word, len(word)), words))\n",
    "print(word_lengths_map(words))  \n",
    "\n",
    "def word_lengths_comprehension(words):\n",
    "    return [(word, len(word)) for word in words]\n",
    "print(word_lengths_comprehension(words))  \n"
   ]
  },
  {
   "cell_type": "code",
   "execution_count": null,
   "metadata": {},
   "outputs": [],
   "source": [
    "#28\n",
    "def find_longest_word(words):\n",
    "    return max(words, key=len)\n",
    "print(find_longest_word(words))  \n"
   ]
  },
  {
   "cell_type": "code",
   "execution_count": null,
   "metadata": {},
   "outputs": [],
   "source": [
    "#29\n",
    "def filter_long_words(words, n):\n",
    "    return list(filter(lambda word: len(word) > n, words))\n",
    "print(filter_long_words(words, 5))  \n"
   ]
  },
  {
   "cell_type": "code",
   "execution_count": null,
   "metadata": {},
   "outputs": [],
   "source": [
    "#30\n",
    "def translate_with_map(words, dictionary):\n",
    "    return list(map(lambda word: dictionary.get(word, word), words))\n",
    "eng_to_french = {\n",
    "    'apple': 'pomme',\n",
    "    'banana': 'banane',\n",
    "    'cherry': 'cerise'\n",
    "}\n",
    "words = ['apple', 'banana', 'cherry']\n",
    "print(translate_with_map(words, eng_to_french))  \n"
   ]
  },
  {
   "cell_type": "code",
   "execution_count": null,
   "metadata": {},
   "outputs": [],
   "source": [
    "#31\n",
    "def my_map(func, iterable):\n",
    "    result = []\n",
    "    for item in iterable:\n",
    "        result.append(func(item))\n",
    "    return result\n",
    "print(my_map(lambda x: x * 2, [1, 2, 3]))  \n",
    "def my_filter(func, iterable):\n",
    "    result = []\n",
    "    for item in iterable:\n",
    "        if func(item):\n",
    "            result.append(item)\n",
    "    return result\n",
    "print(my_filter(lambda x: x > 2, [1, 2, 3, 4]))  \n",
    "def my_reduce(func, iterable, initializer=None):\n",
    "    it = iter(iterable)\n",
    "    if initializer is None:\n",
    "        value = next(it)\n",
    "    else:\n",
    "        value = initializer\n",
    "    for item in it:\n",
    "        value = func(value, item)\n",
    "    return value\n",
    "print(my_reduce(lambda x, y: x + y, [1, 2, 3, 4]))  \n",
    "\n",
    "\n"
   ]
  }
 ],
 "metadata": {
  "colab": {
   "provenance": []
  },
  "kernelspec": {
   "display_name": "Python 3",
   "language": "python",
   "name": "python3"
  },
  "language_info": {
   "codemirror_mode": {
    "name": "ipython",
    "version": 3
   },
   "file_extension": ".py",
   "mimetype": "text/x-python",
   "name": "python",
   "nbconvert_exporter": "python",
   "pygments_lexer": "ipython3",
   "version": "3.9.2"
  }
 },
 "nbformat": 4,
 "nbformat_minor": 1
}
